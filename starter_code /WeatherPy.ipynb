{
 "cells": [
  {
   "cell_type": "markdown",
   "metadata": {},
   "source": [
    "# WeatherPy\n",
    "----\n",
    "\n",
    "#### Note\n",
    "* Instructions have been included for each segment. You do not have to follow them exactly, but they are included to help you think through the steps."
   ]
  },
  {
   "cell_type": "code",
   "execution_count": 1,
   "metadata": {
    "scrolled": true
   },
   "outputs": [],
   "source": [
    "# Dependencies and Setup\n",
    "import matplotlib.pyplot as plt\n",
    "import pandas as pd\n",
    "import numpy as np\n",
    "import requests\n",
    "import time\n",
    "from scipy.stats import linregress\n",
    "\n",
    "# Import API key\n",
    "from api_keys import weather_api_key\n",
    "\n",
    "# Incorporated citipy to determine city based on latitude and longitude\n",
    "from citipy import citipy\n",
    "\n",
    "# Output File (CSV)\n",
    "output_data_file = \"output_data/cities.csv\"\n",
    "\n",
    "# Range of latitudes and longitudes\n",
    "lat_range = (-90, 90)\n",
    "lng_range = (-180, 180)"
   ]
  },
  {
   "cell_type": "markdown",
   "metadata": {},
   "source": [
    "## Generate Cities List"
   ]
  },
  {
   "cell_type": "code",
   "execution_count": 10,
   "metadata": {},
   "outputs": [
    {
     "data": {
      "text/plain": [
       "581"
      ]
     },
     "execution_count": 10,
     "metadata": {},
     "output_type": "execute_result"
    }
   ],
   "source": [
    "# List for holding lat_lngs and cities\n",
    "lat_lngs = []\n",
    "cities = []\n",
    "\n",
    "# Create a set of random lat and lng combinations\n",
    "lats = np.random.uniform(lat_range[0], lat_range[1], size=1500)\n",
    "lngs = np.random.uniform(lng_range[0], lng_range[1], size=1500)\n",
    "lat_lngs = zip(lats, lngs)\n",
    "\n",
    "# Identify nearest city for each lat, lng combination\n",
    "for lat_lng in lat_lngs:\n",
    "    city = citipy.nearest_city(lat_lng[0], lat_lng[1]).city_name\n",
    "    \n",
    "    # If the city is unique, then add it to a our cities list\n",
    "    if city not in cities:\n",
    "        cities.append(city)\n",
    "\n",
    "# Print the city count to confirm sufficient count\n",
    "len(cities)"
   ]
  },
  {
   "cell_type": "code",
   "execution_count": null,
   "metadata": {},
   "outputs": [],
   "source": [
    "#for debugging purposes only\n",
    "# url = f\"http://api.openweathermap.org/data/2.5/weather?lat={lats}&lon={lngs}&appid={weather_api_key}\"\n",
    "cities = cities[0:30]"
   ]
  },
  {
   "cell_type": "markdown",
   "metadata": {},
   "source": [
    "### Perform API Calls\n",
    "* Perform a weather check on each city using a series of successive API calls.\n",
    "* Include a print log of each city as it'sbeing processed (with the city number and city name).\n"
   ]
  },
  {
   "cell_type": "code",
   "execution_count": 14,
   "metadata": {},
   "outputs": [],
   "source": [
    "base_url = f\"http://api.openweathermap.org/data/2.5/weather?&units=imperial&appid={weather_api_key}\"\n",
    "#city_url = f\"{base_url}&q=\""
   ]
  },
  {
   "cell_type": "code",
   "execution_count": null,
   "metadata": {},
   "outputs": [
    {
     "name": "stdout",
     "output_type": "stream",
     "text": [
      "City not found. Skipping...\n",
      "City not found. Skipping...\n",
      "City not found. Skipping...\n",
      "City not found. Skipping...\n",
      "City not found. Skipping...\n",
      "City not found. Skipping...\n",
      "City not found. Skipping...\n",
      "City not found. Skipping...\n",
      "City not found. Skipping...\n",
      "City not found. Skipping...\n",
      "City not found. Skipping...\n",
      "City not found. Skipping...\n",
      "City not found. Skipping...\n",
      "City not found. Skipping...\n"
     ]
    }
   ],
   "source": [
    "#give a counter to show the user how many cities are being processed\n",
    "#try/except block when you call the response function because the city might not have data\n",
    "\n",
    "lng_lat_city = []\n",
    "#make a counter\n",
    "counter = 0\n",
    "group = 1\n",
    "\n",
    "for city in cities:\n",
    "    try:\n",
    "        query_url = f\"{base_url}&q={city}\"\n",
    "        response = requests.get(query_url).json()\n",
    "        #empty dictionary and populate it with the keys\n",
    "        #slow down response so that you do not exceed 60 requests per minute using time.sleep (look up documentation)\n",
    "        time.sleep(75)\n",
    "        city_dict = {}\n",
    "        city_dict['lon'] = response['coord']['lon']\n",
    "        city_dict['lat'] = response['coord']['lat']\n",
    "        lng_lat_city.append(city_dict)\n",
    "        counter += 1\n",
    "        print(f'''\n",
    "        Beginning Data Retrieval \n",
    "        =================================\n",
    "        Processing city number {counter}| {city}\n",
    "        ''')\n",
    "    except:\n",
    "        print(\"City not found. Skipping...\")"
   ]
  },
  {
   "cell_type": "code",
   "execution_count": 12,
   "metadata": {},
   "outputs": [
    {
     "name": "stdout",
     "output_type": "stream",
     "text": [
      "Processing item number 1 in group 1\n",
      "Processing item number 2 in group 1\n",
      "Processing item number 3 in group 1\n",
      "Processing item number 4 in group 1\n",
      "Processing item number 5 in group 1\n",
      "Processing item number 6 in group 1\n",
      "Processing item number 7 in group 1\n",
      "Processing item number 8 in group 1\n",
      "Processing item number 9 in group 1\n",
      "Processing item number 10 in group 1\n",
      "Processing item number 11 in group 1\n",
      "Processing item number 12 in group 1\n",
      "Processing item number 13 in group 1\n",
      "Processing item number 14 in group 1\n",
      "Processing item number 15 in group 1\n",
      "Processing item number 16 in group 1\n",
      "Processing item number 17 in group 1\n",
      "Processing item number 18 in group 1\n",
      "Processing item number 19 in group 1\n",
      "Processing item number 20 in group 1\n",
      "Processing item number 21 in group 1\n",
      "Processing item number 22 in group 1\n",
      "Processing item number 23 in group 1\n",
      "Processing item number 24 in group 1\n",
      "Processing item number 25 in group 1\n",
      "Processing item number 26 in group 1\n",
      "Processing item number 27 in group 1\n",
      "Processing item number 28 in group 1\n",
      "Processing item number 29 in group 1\n",
      "Processing item number 0 in group 2\n",
      "Processing item number 1 in group 2\n",
      "Processing item number 2 in group 2\n",
      "Processing item number 3 in group 2\n",
      "Processing item number 4 in group 2\n",
      "Processing item number 5 in group 2\n",
      "Processing item number 6 in group 2\n",
      "Processing item number 7 in group 2\n",
      "Processing item number 8 in group 2\n",
      "Processing item number 9 in group 2\n",
      "Processing item number 10 in group 2\n",
      "Processing item number 11 in group 2\n",
      "Processing item number 12 in group 2\n",
      "Processing item number 13 in group 2\n",
      "Processing item number 14 in group 2\n",
      "Processing item number 15 in group 2\n",
      "Processing item number 16 in group 2\n",
      "Processing item number 17 in group 2\n",
      "Processing item number 18 in group 2\n",
      "Processing item number 19 in group 2\n",
      "Processing item number 20 in group 2\n",
      "Processing item number 21 in group 2\n",
      "Processing item number 22 in group 2\n",
      "Processing item number 23 in group 2\n",
      "Processing item number 24 in group 2\n",
      "Processing item number 25 in group 2\n",
      "Processing item number 26 in group 2\n",
      "Processing item number 27 in group 2\n",
      "Processing item number 28 in group 2\n",
      "Processing item number 29 in group 2\n",
      "Processing item number 0 in group 3\n",
      "Processing item number 1 in group 3\n",
      "Processing item number 2 in group 3\n",
      "Processing item number 3 in group 3\n",
      "Processing item number 4 in group 3\n",
      "Processing item number 5 in group 3\n",
      "Processing item number 6 in group 3\n",
      "Processing item number 7 in group 3\n",
      "Processing item number 8 in group 3\n",
      "Processing item number 9 in group 3\n",
      "Processing item number 10 in group 3\n",
      "Processing item number 11 in group 3\n",
      "Processing item number 12 in group 3\n",
      "Processing item number 13 in group 3\n",
      "Processing item number 14 in group 3\n",
      "Processing item number 15 in group 3\n",
      "Processing item number 16 in group 3\n",
      "Processing item number 17 in group 3\n",
      "Processing item number 18 in group 3\n",
      "Processing item number 19 in group 3\n",
      "Processing item number 20 in group 3\n",
      "Processing item number 21 in group 3\n",
      "Processing item number 22 in group 3\n",
      "Processing item number 23 in group 3\n",
      "Processing item number 24 in group 3\n",
      "Processing item number 25 in group 3\n",
      "Processing item number 26 in group 3\n",
      "Processing item number 27 in group 3\n",
      "Processing item number 28 in group 3\n",
      "Processing item number 29 in group 3\n",
      "Processing item number 0 in group 4\n",
      "Processing item number 1 in group 4\n",
      "Processing item number 2 in group 4\n",
      "Processing item number 3 in group 4\n",
      "Processing item number 4 in group 4\n",
      "Processing item number 5 in group 4\n",
      "Processing item number 6 in group 4\n",
      "Processing item number 7 in group 4\n",
      "Processing item number 8 in group 4\n",
      "Processing item number 9 in group 4\n",
      "Processing item number 10 in group 4\n",
      "Processing item number 11 in group 4\n",
      "Processing item number 12 in group 4\n",
      "Processing item number 13 in group 4\n",
      "Processing item number 14 in group 4\n",
      "Processing item number 15 in group 4\n",
      "Processing item number 16 in group 4\n",
      "Processing item number 17 in group 4\n",
      "Processing item number 18 in group 4\n",
      "Processing item number 19 in group 4\n",
      "Processing item number 20 in group 4\n",
      "Processing item number 21 in group 4\n",
      "Processing item number 22 in group 4\n",
      "Processing item number 23 in group 4\n",
      "Processing item number 24 in group 4\n",
      "Processing item number 25 in group 4\n",
      "Processing item number 26 in group 4\n",
      "Processing item number 27 in group 4\n",
      "Processing item number 28 in group 4\n",
      "Processing item number 29 in group 4\n",
      "Processing item number 0 in group 5\n",
      "Processing item number 1 in group 5\n",
      "Processing item number 2 in group 5\n",
      "Processing item number 3 in group 5\n",
      "Processing item number 4 in group 5\n",
      "Processing item number 5 in group 5\n",
      "Processing item number 6 in group 5\n",
      "Processing item number 7 in group 5\n",
      "Processing item number 8 in group 5\n",
      "Processing item number 9 in group 5\n",
      "Processing item number 10 in group 5\n",
      "Processing item number 11 in group 5\n",
      "Processing item number 12 in group 5\n",
      "Processing item number 13 in group 5\n",
      "Processing item number 14 in group 5\n",
      "Processing item number 15 in group 5\n",
      "Processing item number 16 in group 5\n",
      "Processing item number 17 in group 5\n",
      "Processing item number 18 in group 5\n",
      "Processing item number 19 in group 5\n",
      "Processing item number 20 in group 5\n",
      "Processing item number 21 in group 5\n",
      "Processing item number 22 in group 5\n",
      "Processing item number 23 in group 5\n",
      "Processing item number 24 in group 5\n",
      "Processing item number 25 in group 5\n",
      "Processing item number 26 in group 5\n",
      "Processing item number 27 in group 5\n",
      "Processing item number 28 in group 5\n",
      "Processing item number 29 in group 5\n",
      "Processing item number 0 in group 6\n",
      "Processing item number 1 in group 6\n",
      "Processing item number 2 in group 6\n",
      "Processing item number 3 in group 6\n",
      "Processing item number 4 in group 6\n",
      "Processing item number 5 in group 6\n",
      "Processing item number 6 in group 6\n",
      "Processing item number 7 in group 6\n",
      "Processing item number 8 in group 6\n",
      "Processing item number 9 in group 6\n",
      "Processing item number 10 in group 6\n",
      "Processing item number 11 in group 6\n",
      "Processing item number 12 in group 6\n",
      "Processing item number 13 in group 6\n",
      "Processing item number 14 in group 6\n",
      "Processing item number 15 in group 6\n",
      "Processing item number 16 in group 6\n",
      "Processing item number 17 in group 6\n",
      "Processing item number 18 in group 6\n",
      "Processing item number 19 in group 6\n",
      "Processing item number 20 in group 6\n",
      "Processing item number 21 in group 6\n",
      "Processing item number 22 in group 6\n",
      "Processing item number 23 in group 6\n",
      "Processing item number 24 in group 6\n",
      "Processing item number 25 in group 6\n",
      "Processing item number 26 in group 6\n",
      "Processing item number 27 in group 6\n",
      "Processing item number 28 in group 6\n",
      "Processing item number 29 in group 6\n",
      "Processing item number 0 in group 7\n",
      "Processing item number 1 in group 7\n",
      "Processing item number 2 in group 7\n",
      "Processing item number 3 in group 7\n",
      "Processing item number 4 in group 7\n",
      "Processing item number 5 in group 7\n",
      "Processing item number 6 in group 7\n",
      "Processing item number 7 in group 7\n",
      "Processing item number 8 in group 7\n",
      "Processing item number 9 in group 7\n",
      "Processing item number 10 in group 7\n",
      "Processing item number 11 in group 7\n",
      "Processing item number 12 in group 7\n",
      "Processing item number 13 in group 7\n",
      "Processing item number 14 in group 7\n",
      "Processing item number 15 in group 7\n",
      "Processing item number 16 in group 7\n",
      "Processing item number 17 in group 7\n",
      "Processing item number 18 in group 7\n",
      "Processing item number 19 in group 7\n",
      "Processing item number 20 in group 7\n",
      "Processing item number 21 in group 7\n",
      "Processing item number 22 in group 7\n",
      "Processing item number 23 in group 7\n",
      "Processing item number 24 in group 7\n",
      "Processing item number 25 in group 7\n",
      "Processing item number 26 in group 7\n",
      "Processing item number 27 in group 7\n",
      "Processing item number 28 in group 7\n",
      "Processing item number 29 in group 7\n",
      "Processing item number 0 in group 8\n",
      "Processing item number 1 in group 8\n",
      "Processing item number 2 in group 8\n",
      "Processing item number 3 in group 8\n",
      "Processing item number 4 in group 8\n",
      "Processing item number 5 in group 8\n",
      "Processing item number 6 in group 8\n",
      "Processing item number 7 in group 8\n",
      "Processing item number 8 in group 8\n",
      "Processing item number 9 in group 8\n",
      "Processing item number 10 in group 8\n",
      "Processing item number 11 in group 8\n",
      "Processing item number 12 in group 8\n",
      "Processing item number 13 in group 8\n",
      "Processing item number 14 in group 8\n",
      "Processing item number 15 in group 8\n",
      "Processing item number 16 in group 8\n",
      "Processing item number 17 in group 8\n",
      "Processing item number 18 in group 8\n",
      "Processing item number 19 in group 8\n",
      "Processing item number 20 in group 8\n",
      "Processing item number 21 in group 8\n",
      "Processing item number 22 in group 8\n",
      "Processing item number 23 in group 8\n",
      "Processing item number 24 in group 8\n",
      "Processing item number 25 in group 8\n",
      "Processing item number 26 in group 8\n",
      "Processing item number 27 in group 8\n",
      "Processing item number 28 in group 8\n",
      "Processing item number 29 in group 8\n"
     ]
    },
    {
     "name": "stdout",
     "output_type": "stream",
     "text": [
      "Processing item number 0 in group 9\n",
      "Processing item number 1 in group 9\n",
      "Processing item number 2 in group 9\n",
      "Processing item number 3 in group 9\n",
      "Processing item number 4 in group 9\n",
      "Processing item number 5 in group 9\n",
      "Processing item number 6 in group 9\n",
      "Processing item number 7 in group 9\n",
      "Processing item number 8 in group 9\n",
      "Processing item number 9 in group 9\n",
      "Processing item number 10 in group 9\n",
      "Processing item number 11 in group 9\n",
      "Processing item number 12 in group 9\n",
      "Processing item number 13 in group 9\n",
      "Processing item number 14 in group 9\n",
      "Processing item number 15 in group 9\n",
      "Processing item number 16 in group 9\n",
      "Processing item number 17 in group 9\n",
      "Processing item number 18 in group 9\n",
      "Processing item number 19 in group 9\n",
      "Processing item number 20 in group 9\n",
      "Processing item number 21 in group 9\n",
      "Processing item number 22 in group 9\n",
      "Processing item number 23 in group 9\n",
      "Processing item number 24 in group 9\n",
      "Processing item number 25 in group 9\n",
      "Processing item number 26 in group 9\n",
      "Processing item number 27 in group 9\n",
      "Processing item number 28 in group 9\n",
      "Processing item number 29 in group 9\n",
      "Processing item number 0 in group 10\n",
      "Processing item number 1 in group 10\n",
      "Processing item number 2 in group 10\n",
      "Processing item number 3 in group 10\n",
      "Processing item number 4 in group 10\n",
      "Processing item number 5 in group 10\n",
      "Processing item number 6 in group 10\n",
      "Processing item number 7 in group 10\n",
      "Processing item number 8 in group 10\n",
      "Processing item number 9 in group 10\n",
      "Processing item number 10 in group 10\n",
      "Processing item number 11 in group 10\n",
      "Processing item number 12 in group 10\n",
      "Processing item number 13 in group 10\n",
      "Processing item number 14 in group 10\n",
      "Processing item number 15 in group 10\n",
      "Processing item number 16 in group 10\n",
      "Processing item number 17 in group 10\n",
      "Processing item number 18 in group 10\n",
      "Processing item number 19 in group 10\n",
      "Processing item number 20 in group 10\n",
      "Processing item number 21 in group 10\n",
      "Processing item number 22 in group 10\n",
      "Processing item number 23 in group 10\n",
      "Processing item number 24 in group 10\n",
      "Processing item number 25 in group 10\n",
      "Processing item number 26 in group 10\n",
      "Processing item number 27 in group 10\n",
      "Processing item number 28 in group 10\n",
      "Processing item number 29 in group 10\n",
      "Processing item number 0 in group 11\n",
      "Processing item number 1 in group 11\n",
      "Processing item number 2 in group 11\n",
      "Processing item number 3 in group 11\n",
      "Processing item number 4 in group 11\n",
      "Processing item number 5 in group 11\n",
      "Processing item number 6 in group 11\n",
      "Processing item number 7 in group 11\n",
      "Processing item number 8 in group 11\n",
      "Processing item number 9 in group 11\n",
      "Processing item number 10 in group 11\n",
      "Processing item number 11 in group 11\n",
      "Processing item number 12 in group 11\n",
      "Processing item number 13 in group 11\n",
      "Processing item number 14 in group 11\n",
      "Processing item number 15 in group 11\n",
      "Processing item number 16 in group 11\n",
      "Processing item number 17 in group 11\n",
      "Processing item number 18 in group 11\n",
      "Processing item number 19 in group 11\n",
      "Processing item number 20 in group 11\n",
      "Processing item number 21 in group 11\n",
      "Processing item number 22 in group 11\n",
      "Processing item number 23 in group 11\n",
      "Processing item number 24 in group 11\n",
      "Processing item number 25 in group 11\n",
      "Processing item number 26 in group 11\n",
      "Processing item number 27 in group 11\n",
      "Processing item number 28 in group 11\n",
      "Processing item number 29 in group 11\n"
     ]
    },
    {
     "ename": "KeyboardInterrupt",
     "evalue": "",
     "output_type": "error",
     "traceback": [
      "\u001b[0;31m---------------------------------------------------------------------------\u001b[0m",
      "\u001b[0;31mKeyboardInterrupt\u001b[0m                         Traceback (most recent call last)",
      "\u001b[0;32m<ipython-input-12-dfadde4f0cf5>\u001b[0m in \u001b[0;36m<module>\u001b[0;34m\u001b[0m\n\u001b[1;32m      6\u001b[0m     \u001b[0;32mif\u001b[0m \u001b[0mcounter\u001b[0m \u001b[0;34m==\u001b[0m \u001b[0;36m30\u001b[0m\u001b[0;34m:\u001b[0m\u001b[0;34m\u001b[0m\u001b[0;34m\u001b[0m\u001b[0m\n\u001b[1;32m      7\u001b[0m             \u001b[0mgroup\u001b[0m \u001b[0;34m+=\u001b[0m \u001b[0;36m1\u001b[0m\u001b[0;34m\u001b[0m\u001b[0;34m\u001b[0m\u001b[0m\n\u001b[0;32m----> 8\u001b[0;31m             \u001b[0mtime\u001b[0m\u001b[0;34m.\u001b[0m\u001b[0msleep\u001b[0m\u001b[0;34m(\u001b[0m\u001b[0;36m30\u001b[0m\u001b[0;34m)\u001b[0m\u001b[0;34m\u001b[0m\u001b[0;34m\u001b[0m\u001b[0m\n\u001b[0m\u001b[1;32m      9\u001b[0m             \u001b[0mcounter\u001b[0m \u001b[0;34m=\u001b[0m \u001b[0;36m0\u001b[0m\u001b[0;34m\u001b[0m\u001b[0;34m\u001b[0m\u001b[0m\n\u001b[1;32m     10\u001b[0m     \u001b[0mprint\u001b[0m\u001b[0;34m(\u001b[0m\u001b[0;34mf\"Processing item number {counter} in group {group}\"\u001b[0m\u001b[0;34m)\u001b[0m\u001b[0;34m\u001b[0m\u001b[0;34m\u001b[0m\u001b[0m\n",
      "\u001b[0;31mKeyboardInterrupt\u001b[0m: "
     ]
    }
   ],
   "source": [
    "counter = 0\n",
    "group = 1\n",
    "\n",
    "while counter <= len(cities):\n",
    "    counter += 1\n",
    "    if counter == 30:\n",
    "            group += 1\n",
    "            time.sleep(30)\n",
    "            counter = 0\n",
    "    print(f\"Processing item number {counter} in group {group}\")"
   ]
  },
  {
   "cell_type": "code",
   "execution_count": null,
   "metadata": {
    "scrolled": true
   },
   "outputs": [],
   "source": []
  },
  {
   "cell_type": "markdown",
   "metadata": {},
   "source": [
    "### Convert Raw Data to DataFrame\n",
    "* Export the city data into a .csv.\n",
    "* Display the DataFrame"
   ]
  },
  {
   "cell_type": "code",
   "execution_count": null,
   "metadata": {},
   "outputs": [],
   "source": []
  },
  {
   "cell_type": "code",
   "execution_count": null,
   "metadata": {},
   "outputs": [],
   "source": []
  },
  {
   "cell_type": "markdown",
   "metadata": {},
   "source": [
    "## Inspect the data and remove the cities where the humidity > 100%.\n",
    "----\n",
    "Skip this step if there are no cities that have humidity > 100%. "
   ]
  },
  {
   "cell_type": "code",
   "execution_count": null,
   "metadata": {},
   "outputs": [],
   "source": []
  },
  {
   "cell_type": "code",
   "execution_count": null,
   "metadata": {},
   "outputs": [],
   "source": [
    "#  Get the indices of cities that have humidity over 100%.\n"
   ]
  },
  {
   "cell_type": "code",
   "execution_count": null,
   "metadata": {},
   "outputs": [],
   "source": [
    "# Make a new DataFrame equal to the city data to drop all humidity outliers by index.\n",
    "# Passing \"inplace=False\" will make a copy of the city_data DataFrame, which we call \"clean_city_data\".\n"
   ]
  },
  {
   "cell_type": "code",
   "execution_count": null,
   "metadata": {},
   "outputs": [],
   "source": [
    "\n"
   ]
  },
  {
   "cell_type": "markdown",
   "metadata": {},
   "source": [
    "## Plotting the Data\n",
    "* Use proper labeling of the plots using plot titles (including date of analysis) and axes labels.\n",
    "* Save the plotted figures as .pngs."
   ]
  },
  {
   "cell_type": "markdown",
   "metadata": {},
   "source": [
    "## Latitude vs. Temperature Plot"
   ]
  },
  {
   "cell_type": "code",
   "execution_count": null,
   "metadata": {
    "scrolled": true
   },
   "outputs": [],
   "source": []
  },
  {
   "cell_type": "markdown",
   "metadata": {},
   "source": [
    "## Latitude vs. Humidity Plot"
   ]
  },
  {
   "cell_type": "code",
   "execution_count": null,
   "metadata": {},
   "outputs": [],
   "source": []
  },
  {
   "cell_type": "markdown",
   "metadata": {},
   "source": [
    "## Latitude vs. Cloudiness Plot"
   ]
  },
  {
   "cell_type": "code",
   "execution_count": null,
   "metadata": {},
   "outputs": [],
   "source": []
  },
  {
   "cell_type": "markdown",
   "metadata": {},
   "source": [
    "## Latitude vs. Wind Speed Plot"
   ]
  },
  {
   "cell_type": "code",
   "execution_count": null,
   "metadata": {},
   "outputs": [],
   "source": []
  },
  {
   "cell_type": "markdown",
   "metadata": {},
   "source": [
    "## Linear Regression"
   ]
  },
  {
   "cell_type": "code",
   "execution_count": null,
   "metadata": {},
   "outputs": [],
   "source": []
  },
  {
   "cell_type": "markdown",
   "metadata": {},
   "source": [
    "####  Northern Hemisphere - Max Temp vs. Latitude Linear Regression"
   ]
  },
  {
   "cell_type": "code",
   "execution_count": null,
   "metadata": {},
   "outputs": [],
   "source": []
  },
  {
   "cell_type": "markdown",
   "metadata": {},
   "source": [
    "####  Southern Hemisphere - Max Temp vs. Latitude Linear Regression"
   ]
  },
  {
   "cell_type": "code",
   "execution_count": null,
   "metadata": {},
   "outputs": [],
   "source": []
  },
  {
   "cell_type": "markdown",
   "metadata": {},
   "source": [
    "####  Northern Hemisphere - Humidity (%) vs. Latitude Linear Regression"
   ]
  },
  {
   "cell_type": "code",
   "execution_count": null,
   "metadata": {},
   "outputs": [],
   "source": []
  },
  {
   "cell_type": "markdown",
   "metadata": {},
   "source": [
    "####  Southern Hemisphere - Humidity (%) vs. Latitude Linear Regression"
   ]
  },
  {
   "cell_type": "code",
   "execution_count": null,
   "metadata": {},
   "outputs": [],
   "source": []
  },
  {
   "cell_type": "markdown",
   "metadata": {},
   "source": [
    "####  Northern Hemisphere - Cloudiness (%) vs. Latitude Linear Regression"
   ]
  },
  {
   "cell_type": "code",
   "execution_count": null,
   "metadata": {},
   "outputs": [],
   "source": []
  },
  {
   "cell_type": "markdown",
   "metadata": {},
   "source": [
    "####  Southern Hemisphere - Cloudiness (%) vs. Latitude Linear Regression"
   ]
  },
  {
   "cell_type": "code",
   "execution_count": null,
   "metadata": {},
   "outputs": [],
   "source": []
  },
  {
   "cell_type": "markdown",
   "metadata": {},
   "source": [
    "####  Northern Hemisphere - Wind Speed (mph) vs. Latitude Linear Regression"
   ]
  },
  {
   "cell_type": "code",
   "execution_count": null,
   "metadata": {},
   "outputs": [],
   "source": []
  },
  {
   "cell_type": "markdown",
   "metadata": {},
   "source": [
    "####  Southern Hemisphere - Wind Speed (mph) vs. Latitude Linear Regression"
   ]
  },
  {
   "cell_type": "code",
   "execution_count": null,
   "metadata": {},
   "outputs": [],
   "source": []
  },
  {
   "cell_type": "code",
   "execution_count": null,
   "metadata": {},
   "outputs": [],
   "source": []
  }
 ],
 "metadata": {
  "anaconda-cloud": {},
  "kernel_info": {
   "name": "python3"
  },
  "kernelspec": {
   "display_name": "Python 3",
   "language": "python",
   "name": "python3"
  },
  "language_info": {
   "codemirror_mode": {
    "name": "ipython",
    "version": 3
   },
   "file_extension": ".py",
   "mimetype": "text/x-python",
   "name": "python",
   "nbconvert_exporter": "python",
   "pygments_lexer": "ipython3",
   "version": "3.8.5"
  },
  "latex_envs": {
   "LaTeX_envs_menu_present": true,
   "autoclose": false,
   "autocomplete": true,
   "bibliofile": "biblio.bib",
   "cite_by": "apalike",
   "current_citInitial": 1,
   "eqLabelWithNumbers": true,
   "eqNumInitial": 1,
   "hotkeys": {
    "equation": "Ctrl-E",
    "itemize": "Ctrl-I"
   },
   "labels_anchors": false,
   "latex_user_defs": false,
   "report_style_numbering": false,
   "user_envs_cfg": false
  },
  "nteract": {
   "version": "0.12.3"
  }
 },
 "nbformat": 4,
 "nbformat_minor": 2
}
